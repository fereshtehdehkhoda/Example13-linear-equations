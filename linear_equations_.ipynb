{
  "cells": [
    {
      "cell_type": "markdown",
      "metadata": {
        "id": "view-in-github",
        "colab_type": "text"
      },
      "source": [
        "<a href=\"https://colab.research.google.com/github/fereshtehdehkhoda/Example13-linear-equations/blob/main/linear_equations_.ipynb\" target=\"_parent\"><img src=\"https://colab.research.google.com/assets/colab-badge.svg\" alt=\"Open In Colab\"/></a>"
      ]
    },
    {
      "cell_type": "markdown",
      "id": "2662f673-10b8-43e1-acda-a276a0c3e12e",
      "metadata": {
        "id": "2662f673-10b8-43e1-acda-a276a0c3e12e"
      },
      "source": [
        "# linear equations"
      ]
    },
    {
      "cell_type": "code",
      "execution_count": null,
      "id": "43654d3f-1267-4a62-9817-e8458d1563ae",
      "metadata": {
        "id": "43654d3f-1267-4a62-9817-e8458d1563ae"
      },
      "outputs": [],
      "source": [
        "# x1?"
      ]
    },
    {
      "cell_type": "code",
      "execution_count": null,
      "id": "1a49c70f-4a8b-4bd3-b0e9-7153a96a45e9",
      "metadata": {
        "id": "1a49c70f-4a8b-4bd3-b0e9-7153a96a45e9"
      },
      "outputs": [],
      "source": [
        "import numpy as np"
      ]
    },
    {
      "cell_type": "code",
      "execution_count": null,
      "id": "fbbbaf59-fccd-4cbe-ac1f-bb5ca9c7983c",
      "metadata": {
        "id": "fbbbaf59-fccd-4cbe-ac1f-bb5ca9c7983c",
        "outputId": "e00330db-9a1d-4bb9-f4c4-b55179682579"
      },
      "outputs": [
        {
          "data": {
            "text/plain": [
              "array([[1, 3, 5],\n",
              "       [2, 4, 0],\n",
              "       [0, 7, 9]])"
            ]
          },
          "execution_count": 6,
          "metadata": {},
          "output_type": "execute_result"
        }
      ],
      "source": [
        "A=np.array([[1,3,5],[2,4,0],[0,7,9]])\n",
        "A"
      ]
    },
    {
      "cell_type": "code",
      "execution_count": null,
      "id": "a9e8f23c-3cd1-40e7-99e0-137c51a9da0f",
      "metadata": {
        "id": "a9e8f23c-3cd1-40e7-99e0-137c51a9da0f",
        "outputId": "d61f1049-f0e5-444e-f912-31e5bcfc5d35"
      },
      "outputs": [
        {
          "data": {
            "text/plain": [
              "array([[12],\n",
              "       [-1],\n",
              "       [-2]])"
            ]
          },
          "execution_count": 8,
          "metadata": {},
          "output_type": "execute_result"
        }
      ],
      "source": [
        "b=np.array([[12],[-1],[-2]])\n",
        "b"
      ]
    },
    {
      "cell_type": "code",
      "execution_count": null,
      "id": "44ee1456-86e2-496b-8df2-274e66de85af",
      "metadata": {
        "id": "44ee1456-86e2-496b-8df2-274e66de85af",
        "outputId": "0d180b93-0599-416c-a634-c72eec7aa8f7"
      },
      "outputs": [
        {
          "data": {
            "text/plain": [
              "array([[ 8.92307692],\n",
              "       [-4.71153846],\n",
              "       [ 3.44230769]])"
            ]
          },
          "execution_count": 12,
          "metadata": {},
          "output_type": "execute_result"
        }
      ],
      "source": [
        "#Ax=b\n",
        "x=np.linalg.solve(A,b)\n",
        "x"
      ]
    },
    {
      "cell_type": "code",
      "execution_count": null,
      "id": "b70a6ee1-921c-4720-a874-54d5a2935235",
      "metadata": {
        "id": "b70a6ee1-921c-4720-a874-54d5a2935235"
      },
      "outputs": [],
      "source": [
        "#x1=8.92307692\n",
        "#x2=-4.71153846\n",
        "#x3=3.44230769"
      ]
    }
  ],
  "metadata": {
    "kernelspec": {
      "display_name": "Python 3 (ipykernel)",
      "language": "python",
      "name": "python3"
    },
    "language_info": {
      "codemirror_mode": {
        "name": "ipython",
        "version": 3
      },
      "file_extension": ".py",
      "mimetype": "text/x-python",
      "name": "python",
      "nbconvert_exporter": "python",
      "pygments_lexer": "ipython3",
      "version": "3.12.4"
    },
    "colab": {
      "provenance": [],
      "include_colab_link": true
    }
  },
  "nbformat": 4,
  "nbformat_minor": 5
}